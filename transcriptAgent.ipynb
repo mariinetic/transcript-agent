{
 "cells": [
  {
   "cell_type": "markdown",
   "id": "4cc8c86b",
   "metadata": {},
   "source": [
    "  # Transcript Agent\n",
    "\n",
    "*Visto a dificuldade enfrentada pelo grupo do short talks em legendar os videos e assim atrasando a publicação das entrevistas e engajamento da iniciativa, foi pensando como uma forma de facilitar a maneira de obter esse roteiro de maneira simples podendo assim editar o video com mais facilidade sem dependências externas, de inicio o agente apenas transcreve os videos/audios das entrevistas feita pleo time do ECAC short talks.*\n",
    "<br>\n",
    "<br>\n",
    "<br>\n",
    "Antes de começar, vou instalar só o que realmente preciso pra rodar esse agente."
   ]
  },
  {
   "cell_type": "code",
   "execution_count": null,
   "id": "cbf763f0",
   "metadata": {},
   "outputs": [],
   "source": [
    "!pip install git+https://github.com/openai/whisper.git torchaudio moviepy langchain openai --upgrade"
   ]
  },
  {
   "cell_type": "markdown",
   "id": "6da64512",
   "metadata": {},
   "source": [
    "Após isso iremos importar as dependencias e em seguida montar o drive aonde estara o video para trancrição"
   ]
  },
  {
   "cell_type": "code",
   "execution_count": null,
   "id": "898a3763",
   "metadata": {},
   "outputs": [],
   "source": [
    "from moviepy.editor import VideoFileClip\n",
    "import whisper\n",
    "from langchain.llms import OpenAI\n",
    "from langchain.prompts import PromptTemplate\n",
    "import os\n",
    "from google.colab import drive"
   ]
  },
  {
   "cell_type": "code",
   "execution_count": null,
   "id": "21735e55",
   "metadata": {},
   "outputs": [],
   "source": [
    "drive.mount('/content/drive')\n",
    "\n",
    "video_path = '/content/drive/MyDrive/ECAC_short_talks/entrevista_01.mp4'  # coloque aqui o vídeo real\n",
    "if not os.path.exists(video_path):\n",
    "    raise FileNotFoundError(f\"Not possible to find the video: {video_path}\")"
   ]
  },
  {
   "cell_type": "markdown",
   "id": "9cc749e2",
   "metadata": {},
   "source": [
    "Configurando minha chave da OpenAI (precisa colar aqui a pessoal)."
   ]
  },
  {
   "cell_type": "code",
   "execution_count": null,
   "id": "16f090a4",
   "metadata": {},
   "outputs": [],
   "source": [
    "os.environ[\"OPENAI_API_KEY\"] = input(\"Digite sua OpenAI API Key: \")\n",
    "llm = OpenAI(temperature=0.5, max_tokens=700)"
   ]
  },
  {
   "cell_type": "markdown",
   "id": "5eb20965",
   "metadata": {},
   "source": [
    "Agora entram as funções principais que preparei."
   ]
  },
  {
   "cell_type": "code",
   "execution_count": null,
   "id": "6a2d3b2e",
   "metadata": {},
   "outputs": [],
   "source": [
    "def extrair_audio_ecac(caminho_video):\n",
    "    nome_base = os.path.splitext(os.path.basename(caminho_video))[0]\n",
    "    caminho_audio = f\"/content/{nome_base}.mp3\"\n",
    "\n",
    "    clip = VideoFileClip(caminho_video)\n",
    "    clip.audio.write_audiofile(\n",
    "        caminho_audio,\n",
    "        codec=\"libmp3lame\",\n",
    "        verbose=False,\n",
    "        logger=None\n",
    "    )\n",
    "    clip.close()\n",
    "\n",
    "    return caminho_audio\n",
    "\n",
    "\n",
    "def transcrever_ecac(caminho_audio, modelo=\"base\"):\n",
    "    modelo_whisper = whisper.load_model(modelo)\n",
    "    resultado = modelo_whisper.transcribe(\n",
    "        caminho_audio,\n",
    "        language=\"pt\",\n",
    "        fp16=False\n",
    "    )\n",
    "\n",
    "    return resultado[\"text\"]\n"
   ]
  },
  {
   "cell_type": "markdown",
   "id": "7847e2d0",
   "metadata": {},
   "source": [
    "Chamando as funções e salvando o roterio direto no drive"
   ]
  },
  {
   "cell_type": "code",
   "execution_count": null,
   "id": "d1ea4cfa",
   "metadata": {},
   "outputs": [],
   "source": [
    "arquivo_audio = extrair_audio_ecac(video_path)\n",
    "texto_roteiro = transcrever_ecac(arquivo_audio)\n",
    "\n",
    "print(\"==== Roteiro da Entrevista ====\\n\")\n",
    "print(texto_roteiro)\n",
    "\n",
    "caminho_roteiro = '/content/drive/MyDrive/your-folder/roteiro_entrevista_01.txt'\n",
    "with open(caminho_roteiro, \"w\", encoding=\"utf-8\") as f:\n",
    "    f.write(texto_roteiro)\n",
    "\n",
    "print(f\"\\nRoteiro salvo em: {caminho_roteiro}\")\n"
   ]
  }
 ],
 "metadata": {},
 "nbformat": 4,
 "nbformat_minor": 5
}
