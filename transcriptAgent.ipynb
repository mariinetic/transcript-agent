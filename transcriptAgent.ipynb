{
  "cells": [
    {
      "cell_type": "markdown",
      "metadata": {
        "id": "HzwCt74H81eF"
      },
      "source": [
        "  # Transcript Agent\n",
        "\n",
        "*Visto a dificuldade enfrentada pelo grupo do short talks em legendar os videos e assim atrasando a publicação das entrevistas e engajamento da iniciativa, foi pensando como uma forma de facilitar a maneira de obter esse roteiro de maneira simples podendo assim editar o video com mais facilidade sem dependências externas, de inicio o agente apenas transcreve os videos/audios das entrevistas feita pleo time do ECAC short talks.*\n",
        "<br>\n",
        "<br>\n",
        "<br>\n",
        "Antes de começar, precisamos instalar todas as dependências necessárias para este agente."
      ]
    },
    {
      "cell_type": "code",
      "source": [
        "!pip uninstall -y whisper\n",
        "!pip install git+https://github.com/openai/whisper.git\n",
        "!pip install torchaudio --upgrade\n",
        "!pip install moviepy\n",
        "!pip install langchain openai"
      ],
      "metadata": {
        "id": "bTKeb8LYbELW"
      },
      "execution_count": null,
      "outputs": []
    },
    {
      "cell_type": "markdown",
      "source": [
        "Após isso iremos importar as dependencias e em seguida montar o drive aonde estara o video para trancrição"
      ],
      "metadata": {
        "id": "MIVFmI04bGdJ"
      }
    },
    {
      "cell_type": "code",
      "source": [
        "from moviepy.editor import VideoFileClip\n",
        "import whisper\n",
        "from langchain.llms import OpenAI\n",
        "from langchain.prompts import PromptTemplate\n",
        "import os\n",
        "from google.colab import drive\n",
        "import os"
      ],
      "metadata": {
        "id": "q7lj1uDmbUH9"
      },
      "execution_count": null,
      "outputs": []
    },
    {
      "cell_type": "code",
      "source": [
        "drive.mount('/content/drive')\n",
        "\n",
        "video_file = '/content/drive/MyDrive/Your-folder/your-video'\n",
        "if not os.path.exists(video_file):\n",
        "    raise FileNotFoundError(f\"Not possible to find the video: {video_file}\")"
      ],
      "metadata": {
        "id": "hluoVDzYbOSW"
      },
      "execution_count": null,
      "outputs": []
    },
    {
      "cell_type": "markdown",
      "source": [
        "Configurando nossa Key"
      ],
      "metadata": {
        "id": "T0bIFXLNb6Yl"
      }
    },
    {
      "cell_type": "code",
      "source": [
        "os.environ[\"OPENAI_API_KEY\"] = input(\"Digite sua OpenAI API Key: \")\n",
        "llm = OpenAI(temperature=0.5, max_tokens=700)"
      ],
      "metadata": {
        "id": "RPE4XT_Obwiw"
      },
      "execution_count": null,
      "outputs": []
    },
    {
      "cell_type": "markdown",
      "source": [
        "Agora chamamos as funções principais"
      ],
      "metadata": {
        "id": "OfHFgTLucEZn"
      }
    },
    {
      "cell_type": "code",
      "source": [
        "def extrair_audio(video_path):\n",
        "    base_name = os.path.splitext(os.path.basename(video_path))[0]\n",
        "    audio_path = f\"/content/{base_name}.mp3\"\n",
        "    clip = VideoFileClip(video_path)\n",
        "    clip.audio.write_audiofile(audio_path, codec=\"libmp3lame\", verbose=False, logger=None)\n",
        "    clip.close()\n",
        "    return audio_path\n",
        "\n",
        "def transcrever_audio(audio_path, model_name=\"base\"):\n",
        "    model = whisper.load_model(model_name)\n",
        "    result = model.transcribe(audio_path, language=\"pt\", fp16=False)\n",
        "    return result[\"text\"]"
      ],
      "metadata": {
        "id": "dwgk8ayGcynp"
      },
      "execution_count": null,
      "outputs": []
    },
    {
      "cell_type": "markdown",
      "source": [
        "Chamando as funções e salvando o roterio direto no drive"
      ],
      "metadata": {
        "id": "kL6byaZ0c7ob"
      }
    },
    {
      "cell_type": "code",
      "source": [
        "audio_file = extrair_audio(video_file)\n",
        "\n",
        "roteiro = transcrever_audio(audio_file)\n",
        "print(\"----- Roteiro do Vídeo -----\\n\")\n",
        "print(roteiro)\n",
        "\n",
        "roteiro_path = '/content/drive/MyDrive/ECAC ST/roteiro.txt'\n",
        "with open(roteiro_path, \"w\", encoding=\"utf-8\") as f:\n",
        "    f.write(roteiro)"
      ],
      "metadata": {
        "id": "Sw4E0nRt1weY"
      },
      "execution_count": null,
      "outputs": []
    }
  ],
  "metadata": {
    "colab": {
      "provenance": []
    },
    "kernelspec": {
      "display_name": "Python 3",
      "name": "python3"
    },
    "language_info": {
      "codemirror_mode": {
        "name": "ipython",
        "version": 3
      },
      "file_extension": ".py",
      "mimetype": "text/x-python",
      "name": "python",
      "nbconvert_exporter": "python",
      "pygments_lexer": "ipython3",
      "version": "3.13.7"
    }
  },
  "nbformat": 4,
  "nbformat_minor": 0
}